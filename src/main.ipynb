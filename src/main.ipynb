{
 "cells": [
  {
   "cell_type": "markdown",
   "id": "f3225de4",
   "metadata": {},
   "source": [
    "# dynamic envs & planning\n",
    "- Sara Echeverría \n",
    "- Ricardo Méndez   \n",
    "- Melissa Pérez \n",
    "\n",
    "Repositorio: https://github.com/bl33h/dynamicEnvs"
   ]
  },
  {
   "cell_type": "markdown",
   "id": "fa9a21fa",
   "metadata": {},
   "source": [
    "## Task1\n",
    "### 1. ¿Qué es Prioritized Sweeping para ambientes determinísticos?\n",
    "Es un método de planificación que organiza los estados según la magnitud del cambio esperado en sus valores. En entornos determinísticos, cada acción lleva a un único resultado, lo que permite actualizar primero los estados más influyentes y propagar sus efectos con mayor eficiencia.\n",
    "\n",
    "### 2. ¿Qué es Trajectory Sampling?\n",
    "Es una técnica que genera trayectorias completas a partir del estado actual siguiendo una política, acumulando recompensas y actualizando valores en los estados recorridos. Se enfoca en rutas específicas en lugar de todo el espacio de estados, reduciendo el costo computacional.\n",
    "\n",
    "### 3. ¿Qué es Upper Confidence Bounds para Árboles (UCT)?\n",
    "Es una regla de selección usada en Monte Carlo Tree Search. Combina la recompensa media de cada acción con un término de confianza que incentiva probar acciones menos visitadas. De esta forma, equilibra exploración y explotación para identificar de manera más eficiente las ramas prometedoras del árbol."
   ]
  }
 ],
 "metadata": {
  "language_info": {
   "name": "python"
  }
 },
 "nbformat": 4,
 "nbformat_minor": 5
}
